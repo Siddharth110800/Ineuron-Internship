{
 "cells": [
  {
   "cell_type": "markdown",
   "id": "f897dcdd",
   "metadata": {},
   "source": [
    "### Importing Libraries"
   ]
  },
  {
   "cell_type": "code",
   "execution_count": 28,
   "id": "07392d9c",
   "metadata": {},
   "outputs": [],
   "source": [
    "import pandas as pd\n",
    "import numpy as np\n",
    "import matplotlib.pyplot as plt\n",
    "import seaborn as sns\n",
    "import os"
   ]
  },
  {
   "cell_type": "code",
   "execution_count": 10,
   "id": "ab93bce4",
   "metadata": {},
   "outputs": [],
   "source": [
    "df = pd.read_excel(r\"./Data/SALESDATA.xlsx\")"
   ]
  },
  {
   "cell_type": "code",
   "execution_count": 29,
   "id": "0d8ba6df",
   "metadata": {},
   "outputs": [
    {
     "data": {
      "text/html": [
       "<div>\n",
       "<style scoped>\n",
       "    .dataframe tbody tr th:only-of-type {\n",
       "        vertical-align: middle;\n",
       "    }\n",
       "\n",
       "    .dataframe tbody tr th {\n",
       "        vertical-align: top;\n",
       "    }\n",
       "\n",
       "    .dataframe thead th {\n",
       "        text-align: right;\n",
       "    }\n",
       "</style>\n",
       "<table border=\"1\" class=\"dataframe\">\n",
       "  <thead>\n",
       "    <tr style=\"text-align: right;\">\n",
       "      <th></th>\n",
       "      <th>CustKey</th>\n",
       "      <th>DateKey</th>\n",
       "      <th>Discount Amount</th>\n",
       "      <th>Invoice Date</th>\n",
       "      <th>Invoice Number</th>\n",
       "      <th>Item Class</th>\n",
       "      <th>Item Number</th>\n",
       "      <th>Item</th>\n",
       "      <th>Line Number</th>\n",
       "      <th>List Price</th>\n",
       "      <th>...</th>\n",
       "      <th>Sales Amount</th>\n",
       "      <th>Sales Amount Based on List Price</th>\n",
       "      <th>Sales Cost Amount</th>\n",
       "      <th>Sales Margin Amount</th>\n",
       "      <th>Sales Price</th>\n",
       "      <th>Sales Quantity</th>\n",
       "      <th>Sales Rep</th>\n",
       "      <th>U/M</th>\n",
       "      <th>@dropdown</th>\n",
       "      <th>Unnamed: 21</th>\n",
       "    </tr>\n",
       "  </thead>\n",
       "  <tbody>\n",
       "    <tr>\n",
       "      <th>0</th>\n",
       "      <td>10000481.0</td>\n",
       "      <td>2017-04-30</td>\n",
       "      <td>-237.91</td>\n",
       "      <td>2017-04-30</td>\n",
       "      <td>100012.0</td>\n",
       "      <td>NaN</td>\n",
       "      <td>NaN</td>\n",
       "      <td>Urban Large Eggs</td>\n",
       "      <td>2000.0</td>\n",
       "      <td>0.00</td>\n",
       "      <td>...</td>\n",
       "      <td>237.91</td>\n",
       "      <td>0.00</td>\n",
       "      <td>0.0</td>\n",
       "      <td>237.91</td>\n",
       "      <td>237.910000</td>\n",
       "      <td>1.0</td>\n",
       "      <td>184.0</td>\n",
       "      <td>EA</td>\n",
       "      <td>NaN</td>\n",
       "      <td>U/M = unit of measure</td>\n",
       "    </tr>\n",
       "    <tr>\n",
       "      <th>1</th>\n",
       "      <td>10002220.0</td>\n",
       "      <td>2017-07-14</td>\n",
       "      <td>368.79</td>\n",
       "      <td>2017-07-14</td>\n",
       "      <td>100233.0</td>\n",
       "      <td>P01</td>\n",
       "      <td>20910.0</td>\n",
       "      <td>Moms Sliced Turkey</td>\n",
       "      <td>1000.0</td>\n",
       "      <td>824.96</td>\n",
       "      <td>...</td>\n",
       "      <td>456.17</td>\n",
       "      <td>824.96</td>\n",
       "      <td>0.0</td>\n",
       "      <td>456.17</td>\n",
       "      <td>456.170000</td>\n",
       "      <td>1.0</td>\n",
       "      <td>127.0</td>\n",
       "      <td>EA</td>\n",
       "      <td>NaN</td>\n",
       "      <td>NaN</td>\n",
       "    </tr>\n",
       "    <tr>\n",
       "      <th>2</th>\n",
       "      <td>10002220.0</td>\n",
       "      <td>2017-10-17</td>\n",
       "      <td>109.73</td>\n",
       "      <td>2017-10-17</td>\n",
       "      <td>116165.0</td>\n",
       "      <td>P01</td>\n",
       "      <td>38076.0</td>\n",
       "      <td>Cutting Edge Foot-Long Hot Dogs</td>\n",
       "      <td>1000.0</td>\n",
       "      <td>548.66</td>\n",
       "      <td>...</td>\n",
       "      <td>438.93</td>\n",
       "      <td>548.66</td>\n",
       "      <td>0.0</td>\n",
       "      <td>438.93</td>\n",
       "      <td>438.930000</td>\n",
       "      <td>1.0</td>\n",
       "      <td>127.0</td>\n",
       "      <td>EA</td>\n",
       "      <td>NaN</td>\n",
       "      <td>EA = each</td>\n",
       "    </tr>\n",
       "    <tr>\n",
       "      <th>3</th>\n",
       "      <td>10002489.0</td>\n",
       "      <td>2017-06-03</td>\n",
       "      <td>-211.75</td>\n",
       "      <td>2017-06-03</td>\n",
       "      <td>100096.0</td>\n",
       "      <td>NaN</td>\n",
       "      <td>NaN</td>\n",
       "      <td>Kiwi Lox</td>\n",
       "      <td>1000.0</td>\n",
       "      <td>0.00</td>\n",
       "      <td>...</td>\n",
       "      <td>211.75</td>\n",
       "      <td>0.00</td>\n",
       "      <td>0.0</td>\n",
       "      <td>211.75</td>\n",
       "      <td>211.750000</td>\n",
       "      <td>1.0</td>\n",
       "      <td>160.0</td>\n",
       "      <td>EA</td>\n",
       "      <td>NaN</td>\n",
       "      <td>NaN</td>\n",
       "    </tr>\n",
       "    <tr>\n",
       "      <th>4</th>\n",
       "      <td>10004516.0</td>\n",
       "      <td>2017-05-27</td>\n",
       "      <td>96627.94</td>\n",
       "      <td>2017-05-27</td>\n",
       "      <td>103341.0</td>\n",
       "      <td>P01</td>\n",
       "      <td>60776.0</td>\n",
       "      <td>High Top Sweet Onion</td>\n",
       "      <td>1000.0</td>\n",
       "      <td>408.52</td>\n",
       "      <td>...</td>\n",
       "      <td>89248.66</td>\n",
       "      <td>185876.60</td>\n",
       "      <td>0.0</td>\n",
       "      <td>89248.66</td>\n",
       "      <td>196.150901</td>\n",
       "      <td>455.0</td>\n",
       "      <td>124.0</td>\n",
       "      <td>SE</td>\n",
       "      <td>NaN</td>\n",
       "      <td>SE = some SI unit like kgs or gallons</td>\n",
       "    </tr>\n",
       "  </tbody>\n",
       "</table>\n",
       "<p>5 rows × 22 columns</p>\n",
       "</div>"
      ],
      "text/plain": [
       "      CustKey    DateKey  Discount Amount Invoice Date  Invoice Number  \\\n",
       "0  10000481.0 2017-04-30          -237.91   2017-04-30        100012.0   \n",
       "1  10002220.0 2017-07-14           368.79   2017-07-14        100233.0   \n",
       "2  10002220.0 2017-10-17           109.73   2017-10-17        116165.0   \n",
       "3  10002489.0 2017-06-03          -211.75   2017-06-03        100096.0   \n",
       "4  10004516.0 2017-05-27         96627.94   2017-05-27        103341.0   \n",
       "\n",
       "  Item Class Item Number                             Item  Line Number  \\\n",
       "0        NaN         NaN                 Urban Large Eggs       2000.0   \n",
       "1        P01     20910.0               Moms Sliced Turkey       1000.0   \n",
       "2        P01     38076.0  Cutting Edge Foot-Long Hot Dogs       1000.0   \n",
       "3        NaN         NaN                         Kiwi Lox       1000.0   \n",
       "4        P01     60776.0             High Top Sweet Onion       1000.0   \n",
       "\n",
       "   List Price  ...  Sales Amount Sales Amount Based on List Price  \\\n",
       "0        0.00  ...        237.91                             0.00   \n",
       "1      824.96  ...        456.17                           824.96   \n",
       "2      548.66  ...        438.93                           548.66   \n",
       "3        0.00  ...        211.75                             0.00   \n",
       "4      408.52  ...      89248.66                        185876.60   \n",
       "\n",
       "   Sales Cost Amount  Sales Margin Amount  Sales Price  Sales Quantity  \\\n",
       "0                0.0               237.91   237.910000             1.0   \n",
       "1                0.0               456.17   456.170000             1.0   \n",
       "2                0.0               438.93   438.930000             1.0   \n",
       "3                0.0               211.75   211.750000             1.0   \n",
       "4                0.0             89248.66   196.150901           455.0   \n",
       "\n",
       "   Sales Rep  U/M  @dropdown                            Unnamed: 21  \n",
       "0      184.0   EA        NaN                  U/M = unit of measure  \n",
       "1      127.0   EA        NaN                                    NaN  \n",
       "2      127.0   EA        NaN                              EA = each  \n",
       "3      160.0   EA        NaN                                    NaN  \n",
       "4      124.0   SE        NaN  SE = some SI unit like kgs or gallons  \n",
       "\n",
       "[5 rows x 22 columns]"
      ]
     },
     "execution_count": 29,
     "metadata": {},
     "output_type": "execute_result"
    }
   ],
   "source": [
    "df.head()"
   ]
  },
  {
   "cell_type": "code",
   "execution_count": 30,
   "id": "854b0c8b",
   "metadata": {},
   "outputs": [
    {
     "data": {
      "text/plain": [
       "Index(['CustKey', 'DateKey', 'Discount Amount', 'Invoice Date',\n",
       "       'Invoice Number', 'Item Class', 'Item Number', 'Item', 'Line Number',\n",
       "       'List Price', 'Order Number', 'Promised Delivery Date', 'Sales Amount',\n",
       "       'Sales Amount Based on List Price', 'Sales Cost Amount',\n",
       "       'Sales Margin Amount', 'Sales Price', 'Sales Quantity', 'Sales Rep',\n",
       "       'U/M', '@dropdown', 'Unnamed: 21'],\n",
       "      dtype='object')"
      ]
     },
     "execution_count": 30,
     "metadata": {},
     "output_type": "execute_result"
    }
   ],
   "source": [
    "df.columns"
   ]
  },
  {
   "cell_type": "code",
   "execution_count": 31,
   "id": "1b994b4e",
   "metadata": {},
   "outputs": [
    {
     "data": {
      "text/plain": [
       "U/M = unit of measure                    1\n",
       "EA = each                                1\n",
       "SE = some SI unit like kgs or gallons    1\n",
       "PR = pair                                1\n",
       "Name: Unnamed: 21, dtype: int64"
      ]
     },
     "execution_count": 31,
     "metadata": {},
     "output_type": "execute_result"
    }
   ],
   "source": [
    "df['Unnamed: 21'].value_counts()"
   ]
  },
  {
   "cell_type": "markdown",
   "id": "c64f08f7",
   "metadata": {},
   "source": [
    "### Removing Unnecessary Columns"
   ]
  },
  {
   "cell_type": "code",
   "execution_count": 32,
   "id": "3fab131b",
   "metadata": {},
   "outputs": [],
   "source": [
    "df.drop([\"@dropdown\"], axis = 1, inplace=True)"
   ]
  },
  {
   "cell_type": "code",
   "execution_count": 33,
   "id": "cf6de49e",
   "metadata": {},
   "outputs": [],
   "source": [
    "df.drop([\"Unnamed: 21\"], axis = 1, inplace=True)"
   ]
  },
  {
   "cell_type": "code",
   "execution_count": 34,
   "id": "f9e9d71b",
   "metadata": {},
   "outputs": [],
   "source": [
    "df.drop([\"DateKey\"], axis = 1, inplace=True)"
   ]
  },
  {
   "cell_type": "code",
   "execution_count": 35,
   "id": "a5b27d64",
   "metadata": {},
   "outputs": [
    {
     "data": {
      "text/html": [
       "<div>\n",
       "<style scoped>\n",
       "    .dataframe tbody tr th:only-of-type {\n",
       "        vertical-align: middle;\n",
       "    }\n",
       "\n",
       "    .dataframe tbody tr th {\n",
       "        vertical-align: top;\n",
       "    }\n",
       "\n",
       "    .dataframe thead th {\n",
       "        text-align: right;\n",
       "    }\n",
       "</style>\n",
       "<table border=\"1\" class=\"dataframe\">\n",
       "  <thead>\n",
       "    <tr style=\"text-align: right;\">\n",
       "      <th></th>\n",
       "      <th>CustKey</th>\n",
       "      <th>Discount Amount</th>\n",
       "      <th>Invoice Date</th>\n",
       "      <th>Invoice Number</th>\n",
       "      <th>Item Class</th>\n",
       "      <th>Item Number</th>\n",
       "      <th>Item</th>\n",
       "      <th>Line Number</th>\n",
       "      <th>List Price</th>\n",
       "      <th>Order Number</th>\n",
       "      <th>Promised Delivery Date</th>\n",
       "      <th>Sales Amount</th>\n",
       "      <th>Sales Amount Based on List Price</th>\n",
       "      <th>Sales Cost Amount</th>\n",
       "      <th>Sales Margin Amount</th>\n",
       "      <th>Sales Price</th>\n",
       "      <th>Sales Quantity</th>\n",
       "      <th>Sales Rep</th>\n",
       "      <th>U/M</th>\n",
       "    </tr>\n",
       "  </thead>\n",
       "  <tbody>\n",
       "    <tr>\n",
       "      <th>0</th>\n",
       "      <td>10000481.0</td>\n",
       "      <td>-237.91</td>\n",
       "      <td>2017-04-30</td>\n",
       "      <td>100012.0</td>\n",
       "      <td>NaN</td>\n",
       "      <td>NaN</td>\n",
       "      <td>Urban Large Eggs</td>\n",
       "      <td>2000.0</td>\n",
       "      <td>0.00</td>\n",
       "      <td>200015.0</td>\n",
       "      <td>2017-04-30</td>\n",
       "      <td>237.91</td>\n",
       "      <td>0.00</td>\n",
       "      <td>0.0</td>\n",
       "      <td>237.91</td>\n",
       "      <td>237.910000</td>\n",
       "      <td>1.0</td>\n",
       "      <td>184.0</td>\n",
       "      <td>EA</td>\n",
       "    </tr>\n",
       "    <tr>\n",
       "      <th>1</th>\n",
       "      <td>10002220.0</td>\n",
       "      <td>368.79</td>\n",
       "      <td>2017-07-14</td>\n",
       "      <td>100233.0</td>\n",
       "      <td>P01</td>\n",
       "      <td>20910.0</td>\n",
       "      <td>Moms Sliced Turkey</td>\n",
       "      <td>1000.0</td>\n",
       "      <td>824.96</td>\n",
       "      <td>200245.0</td>\n",
       "      <td>2017-07-14</td>\n",
       "      <td>456.17</td>\n",
       "      <td>824.96</td>\n",
       "      <td>0.0</td>\n",
       "      <td>456.17</td>\n",
       "      <td>456.170000</td>\n",
       "      <td>1.0</td>\n",
       "      <td>127.0</td>\n",
       "      <td>EA</td>\n",
       "    </tr>\n",
       "    <tr>\n",
       "      <th>2</th>\n",
       "      <td>10002220.0</td>\n",
       "      <td>109.73</td>\n",
       "      <td>2017-10-17</td>\n",
       "      <td>116165.0</td>\n",
       "      <td>P01</td>\n",
       "      <td>38076.0</td>\n",
       "      <td>Cutting Edge Foot-Long Hot Dogs</td>\n",
       "      <td>1000.0</td>\n",
       "      <td>548.66</td>\n",
       "      <td>213157.0</td>\n",
       "      <td>2017-10-16</td>\n",
       "      <td>438.93</td>\n",
       "      <td>548.66</td>\n",
       "      <td>0.0</td>\n",
       "      <td>438.93</td>\n",
       "      <td>438.930000</td>\n",
       "      <td>1.0</td>\n",
       "      <td>127.0</td>\n",
       "      <td>EA</td>\n",
       "    </tr>\n",
       "    <tr>\n",
       "      <th>3</th>\n",
       "      <td>10002489.0</td>\n",
       "      <td>-211.75</td>\n",
       "      <td>2017-06-03</td>\n",
       "      <td>100096.0</td>\n",
       "      <td>NaN</td>\n",
       "      <td>NaN</td>\n",
       "      <td>Kiwi Lox</td>\n",
       "      <td>1000.0</td>\n",
       "      <td>0.00</td>\n",
       "      <td>200107.0</td>\n",
       "      <td>2017-06-03</td>\n",
       "      <td>211.75</td>\n",
       "      <td>0.00</td>\n",
       "      <td>0.0</td>\n",
       "      <td>211.75</td>\n",
       "      <td>211.750000</td>\n",
       "      <td>1.0</td>\n",
       "      <td>160.0</td>\n",
       "      <td>EA</td>\n",
       "    </tr>\n",
       "    <tr>\n",
       "      <th>4</th>\n",
       "      <td>10004516.0</td>\n",
       "      <td>96627.94</td>\n",
       "      <td>2017-05-27</td>\n",
       "      <td>103341.0</td>\n",
       "      <td>P01</td>\n",
       "      <td>60776.0</td>\n",
       "      <td>High Top Sweet Onion</td>\n",
       "      <td>1000.0</td>\n",
       "      <td>408.52</td>\n",
       "      <td>203785.0</td>\n",
       "      <td>2017-05-28</td>\n",
       "      <td>89248.66</td>\n",
       "      <td>185876.60</td>\n",
       "      <td>0.0</td>\n",
       "      <td>89248.66</td>\n",
       "      <td>196.150901</td>\n",
       "      <td>455.0</td>\n",
       "      <td>124.0</td>\n",
       "      <td>SE</td>\n",
       "    </tr>\n",
       "  </tbody>\n",
       "</table>\n",
       "</div>"
      ],
      "text/plain": [
       "      CustKey  Discount Amount Invoice Date  Invoice Number Item Class  \\\n",
       "0  10000481.0          -237.91   2017-04-30        100012.0        NaN   \n",
       "1  10002220.0           368.79   2017-07-14        100233.0        P01   \n",
       "2  10002220.0           109.73   2017-10-17        116165.0        P01   \n",
       "3  10002489.0          -211.75   2017-06-03        100096.0        NaN   \n",
       "4  10004516.0         96627.94   2017-05-27        103341.0        P01   \n",
       "\n",
       "  Item Number                             Item  Line Number  List Price  \\\n",
       "0         NaN                 Urban Large Eggs       2000.0        0.00   \n",
       "1     20910.0               Moms Sliced Turkey       1000.0      824.96   \n",
       "2     38076.0  Cutting Edge Foot-Long Hot Dogs       1000.0      548.66   \n",
       "3         NaN                         Kiwi Lox       1000.0        0.00   \n",
       "4     60776.0             High Top Sweet Onion       1000.0      408.52   \n",
       "\n",
       "   Order Number Promised Delivery Date  Sales Amount  \\\n",
       "0      200015.0             2017-04-30        237.91   \n",
       "1      200245.0             2017-07-14        456.17   \n",
       "2      213157.0             2017-10-16        438.93   \n",
       "3      200107.0             2017-06-03        211.75   \n",
       "4      203785.0             2017-05-28      89248.66   \n",
       "\n",
       "   Sales Amount Based on List Price  Sales Cost Amount  Sales Margin Amount  \\\n",
       "0                              0.00                0.0               237.91   \n",
       "1                            824.96                0.0               456.17   \n",
       "2                            548.66                0.0               438.93   \n",
       "3                              0.00                0.0               211.75   \n",
       "4                         185876.60                0.0             89248.66   \n",
       "\n",
       "   Sales Price  Sales Quantity  Sales Rep U/M  \n",
       "0   237.910000             1.0      184.0  EA  \n",
       "1   456.170000             1.0      127.0  EA  \n",
       "2   438.930000             1.0      127.0  EA  \n",
       "3   211.750000             1.0      160.0  EA  \n",
       "4   196.150901           455.0      124.0  SE  "
      ]
     },
     "execution_count": 35,
     "metadata": {},
     "output_type": "execute_result"
    }
   ],
   "source": [
    "df.head()"
   ]
  },
  {
   "cell_type": "markdown",
   "id": "36545f9d",
   "metadata": {},
   "source": [
    "### Adding Columns"
   ]
  },
  {
   "cell_type": "code",
   "execution_count": 36,
   "id": "6eca1b73",
   "metadata": {},
   "outputs": [],
   "source": [
    "df['Year'] = df['Invoice Date'].dt.year"
   ]
  },
  {
   "cell_type": "code",
   "execution_count": 37,
   "id": "a01fc25f",
   "metadata": {},
   "outputs": [],
   "source": [
    "df['Month'] = df['Invoice Date'].dt.month"
   ]
  },
  {
   "cell_type": "code",
   "execution_count": 38,
   "id": "d8c80506",
   "metadata": {},
   "outputs": [],
   "source": [
    "def quarter(x):\n",
    "    if x in range(1, 4):\n",
    "        return 'Q1'\n",
    "    elif x in range(4, 7):\n",
    "        return 'Q2'\n",
    "    elif x in range(7, 10):\n",
    "        return 'Q3'\n",
    "    else:\n",
    "        return 'Q4'\n",
    "    \n",
    "    \n",
    "    \n",
    "df['Quarter'] = df['Month'].apply(lambda x : quarter(x))"
   ]
  },
  {
   "cell_type": "markdown",
   "id": "8044130b",
   "metadata": {},
   "source": [
    "### Saving the modified excel file"
   ]
  },
  {
   "cell_type": "code",
   "execution_count": null,
   "id": "8e358491",
   "metadata": {},
   "outputs": [],
   "source": [
    "df.to_excel('Amazon Sales Data.xlsx')"
   ]
  },
  {
   "cell_type": "markdown",
   "id": "955f125c",
   "metadata": {},
   "source": [
    "### Basic Exploration"
   ]
  },
  {
   "cell_type": "code",
   "execution_count": 39,
   "id": "3b979f67",
   "metadata": {},
   "outputs": [
    {
     "data": {
      "text/html": [
       "<div>\n",
       "<style scoped>\n",
       "    .dataframe tbody tr th:only-of-type {\n",
       "        vertical-align: middle;\n",
       "    }\n",
       "\n",
       "    .dataframe tbody tr th {\n",
       "        vertical-align: top;\n",
       "    }\n",
       "\n",
       "    .dataframe thead th {\n",
       "        text-align: right;\n",
       "    }\n",
       "</style>\n",
       "<table border=\"1\" class=\"dataframe\">\n",
       "  <thead>\n",
       "    <tr style=\"text-align: right;\">\n",
       "      <th></th>\n",
       "      <th>List Price</th>\n",
       "      <th>Sales Quantity</th>\n",
       "      <th>Sales Amount Based on List Price</th>\n",
       "      <th>Discount Amount</th>\n",
       "      <th>Sales Amount</th>\n",
       "      <th>Sales Price</th>\n",
       "    </tr>\n",
       "  </thead>\n",
       "  <tbody>\n",
       "    <tr>\n",
       "      <th>0</th>\n",
       "      <td>0.0000</td>\n",
       "      <td>1.0</td>\n",
       "      <td>0.0000</td>\n",
       "      <td>-237.9100</td>\n",
       "      <td>237.91</td>\n",
       "      <td>237.910000</td>\n",
       "    </tr>\n",
       "    <tr>\n",
       "      <th>1</th>\n",
       "      <td>824.9600</td>\n",
       "      <td>1.0</td>\n",
       "      <td>824.9600</td>\n",
       "      <td>368.7900</td>\n",
       "      <td>456.17</td>\n",
       "      <td>456.170000</td>\n",
       "    </tr>\n",
       "    <tr>\n",
       "      <th>2</th>\n",
       "      <td>548.6600</td>\n",
       "      <td>1.0</td>\n",
       "      <td>548.6600</td>\n",
       "      <td>109.7300</td>\n",
       "      <td>438.93</td>\n",
       "      <td>438.930000</td>\n",
       "    </tr>\n",
       "    <tr>\n",
       "      <th>3</th>\n",
       "      <td>0.0000</td>\n",
       "      <td>1.0</td>\n",
       "      <td>0.0000</td>\n",
       "      <td>-211.7500</td>\n",
       "      <td>211.75</td>\n",
       "      <td>211.750000</td>\n",
       "    </tr>\n",
       "    <tr>\n",
       "      <th>4</th>\n",
       "      <td>408.5200</td>\n",
       "      <td>455.0</td>\n",
       "      <td>185876.6000</td>\n",
       "      <td>96627.9400</td>\n",
       "      <td>89248.66</td>\n",
       "      <td>196.150901</td>\n",
       "    </tr>\n",
       "    <tr>\n",
       "      <th>5</th>\n",
       "      <td>0.0000</td>\n",
       "      <td>1.0</td>\n",
       "      <td>0.0000</td>\n",
       "      <td>-1950.0000</td>\n",
       "      <td>1950.00</td>\n",
       "      <td>1950.000000</td>\n",
       "    </tr>\n",
       "    <tr>\n",
       "      <th>6</th>\n",
       "      <td>795.3140</td>\n",
       "      <td>1.0</td>\n",
       "      <td>795.3140</td>\n",
       "      <td>371.0140</td>\n",
       "      <td>424.30</td>\n",
       "      <td>424.300000</td>\n",
       "    </tr>\n",
       "    <tr>\n",
       "      <th>7</th>\n",
       "      <td>575.0000</td>\n",
       "      <td>2.0</td>\n",
       "      <td>1150.0000</td>\n",
       "      <td>608.0800</td>\n",
       "      <td>541.92</td>\n",
       "      <td>270.960000</td>\n",
       "    </tr>\n",
       "    <tr>\n",
       "      <th>8</th>\n",
       "      <td>51.8800</td>\n",
       "      <td>15.0</td>\n",
       "      <td>778.2000</td>\n",
       "      <td>424.8000</td>\n",
       "      <td>353.40</td>\n",
       "      <td>23.560000</td>\n",
       "    </tr>\n",
       "    <tr>\n",
       "      <th>9</th>\n",
       "      <td>412.0300</td>\n",
       "      <td>60.0</td>\n",
       "      <td>24721.8000</td>\n",
       "      <td>13492.8000</td>\n",
       "      <td>11229.00</td>\n",
       "      <td>187.150000</td>\n",
       "    </tr>\n",
       "    <tr>\n",
       "      <th>10</th>\n",
       "      <td>548.6600</td>\n",
       "      <td>35.0</td>\n",
       "      <td>19203.1000</td>\n",
       "      <td>10481.1000</td>\n",
       "      <td>8722.00</td>\n",
       "      <td>249.200000</td>\n",
       "    </tr>\n",
       "    <tr>\n",
       "      <th>11</th>\n",
       "      <td>50.5051</td>\n",
       "      <td>15.0</td>\n",
       "      <td>757.5765</td>\n",
       "      <td>404.1465</td>\n",
       "      <td>353.43</td>\n",
       "      <td>23.562000</td>\n",
       "    </tr>\n",
       "    <tr>\n",
       "      <th>12</th>\n",
       "      <td>1379.7938</td>\n",
       "      <td>2.0</td>\n",
       "      <td>2759.5876</td>\n",
       "      <td>1287.3476</td>\n",
       "      <td>1472.24</td>\n",
       "      <td>736.120000</td>\n",
       "    </tr>\n",
       "    <tr>\n",
       "      <th>13</th>\n",
       "      <td>1134.7700</td>\n",
       "      <td>9.0</td>\n",
       "      <td>10212.9300</td>\n",
       "      <td>4764.3300</td>\n",
       "      <td>5448.60</td>\n",
       "      <td>605.400000</td>\n",
       "    </tr>\n",
       "    <tr>\n",
       "      <th>14</th>\n",
       "      <td>0.0000</td>\n",
       "      <td>1.0</td>\n",
       "      <td>0.0000</td>\n",
       "      <td>-526.6400</td>\n",
       "      <td>526.64</td>\n",
       "      <td>526.640000</td>\n",
       "    </tr>\n",
       "  </tbody>\n",
       "</table>\n",
       "</div>"
      ],
      "text/plain": [
       "    List Price  Sales Quantity  Sales Amount Based on List Price  \\\n",
       "0       0.0000             1.0                            0.0000   \n",
       "1     824.9600             1.0                          824.9600   \n",
       "2     548.6600             1.0                          548.6600   \n",
       "3       0.0000             1.0                            0.0000   \n",
       "4     408.5200           455.0                       185876.6000   \n",
       "5       0.0000             1.0                            0.0000   \n",
       "6     795.3140             1.0                          795.3140   \n",
       "7     575.0000             2.0                         1150.0000   \n",
       "8      51.8800            15.0                          778.2000   \n",
       "9     412.0300            60.0                        24721.8000   \n",
       "10    548.6600            35.0                        19203.1000   \n",
       "11     50.5051            15.0                          757.5765   \n",
       "12   1379.7938             2.0                         2759.5876   \n",
       "13   1134.7700             9.0                        10212.9300   \n",
       "14      0.0000             1.0                            0.0000   \n",
       "\n",
       "    Discount Amount  Sales Amount  Sales Price  \n",
       "0         -237.9100        237.91   237.910000  \n",
       "1          368.7900        456.17   456.170000  \n",
       "2          109.7300        438.93   438.930000  \n",
       "3         -211.7500        211.75   211.750000  \n",
       "4        96627.9400      89248.66   196.150901  \n",
       "5        -1950.0000       1950.00  1950.000000  \n",
       "6          371.0140        424.30   424.300000  \n",
       "7          608.0800        541.92   270.960000  \n",
       "8          424.8000        353.40    23.560000  \n",
       "9        13492.8000      11229.00   187.150000  \n",
       "10       10481.1000       8722.00   249.200000  \n",
       "11         404.1465        353.43    23.562000  \n",
       "12        1287.3476       1472.24   736.120000  \n",
       "13        4764.3300       5448.60   605.400000  \n",
       "14        -526.6400        526.64   526.640000  "
      ]
     },
     "execution_count": 39,
     "metadata": {},
     "output_type": "execute_result"
    }
   ],
   "source": [
    "df.head(15)[['List Price', 'Sales Quantity', 'Sales Amount Based on List Price', 'Discount Amount', 'Sales Amount', 'Sales Price']]"
   ]
  },
  {
   "cell_type": "markdown",
   "id": "1a0ee49b",
   "metadata": {},
   "source": [
    "## The relationships between the attributes are as follows:-\n",
    "\n",
    "#### Sales Amount Based on List Price = List Price * Sales Quantity\n",
    "#### Sales Amount = Sales Amount Based on List Price - Discount Amount \n",
    "#### Sales Price = Sales Amount/Sales Quantity \n",
    "#### Sales Margin Amount = Sales Amount - Sales Cost Amount"
   ]
  },
  {
   "cell_type": "code",
   "execution_count": 40,
   "id": "4d58a945",
   "metadata": {},
   "outputs": [
    {
     "data": {
      "text/plain": [
       "Text(0.5, 1.0, 'Total Sales by Year')"
      ]
     },
     "execution_count": 40,
     "metadata": {},
     "output_type": "execute_result"
    },
    {
     "data": {
      "image/png": "[encoded data removed]",
      "text/plain": [
       "<Figure size 432x288 with 1 Axes>"
      ]
     },
     "metadata": {
      "needs_background": "light"
     },
     "output_type": "display_data"
    }
   ],
   "source": [
    "df.groupby(by = 'Year')['Sales Amount'].sum().plot(kind = 'line', color = 'Red')\n",
    "plt.xticks([2017, 2018, 2019])\n",
    "plt.title(\"Total Sales by Year\")"
   ]
  },
  {
   "cell_type": "code",
   "execution_count": 42,
   "id": "7f113e11",
   "metadata": {},
   "outputs": [
    {
     "data": {
      "text/plain": [
       "Text(0.5, 1.0, 'Total Sales by Month')"
      ]
     },
     "execution_count": 42,
     "metadata": {},
     "output_type": "execute_result"
    },
    {
     "data": {
      "image/png": "[encoded data removed]",
      "text/plain": [
       "<Figure size 432x288 with 1 Axes>"
      ]
     },
     "metadata": {
      "needs_background": "light"
     },
     "output_type": "display_data"
    }
   ],
   "source": [
    "df.groupby(by = 'Month')['Sales Amount'].sum().plot(kind = 'line', color = 'Red')\n",
    "plt.xticks(np.arange(1,13))\n",
    "plt.title(\"Total Sales by Month\")"
   ]
  },
  {
   "cell_type": "code",
   "execution_count": 43,
   "id": "2f1f43fa",
   "metadata": {},
   "outputs": [
    {
     "data": {
      "text/plain": [
       "<AxesSubplot:title={'center':'Total Sales by Quarter'}, xlabel='Year,Quarter'>"
      ]
     },
     "execution_count": 43,
     "metadata": {},
     "output_type": "execute_result"
    },
    {
     "data": {
      "image/png": "[encoded data removed]",
      "text/plain": [
       "<Figure size 720x360 with 1 Axes>"
      ]
     },
     "metadata": {
      "needs_background": "light"
     },
     "output_type": "display_data"
    }
   ],
   "source": [
    "#Total Sales by Quarter\n",
    "\n",
    "plt.figure(figsize = (10,5))\n",
    "plt.title(\"Total Sales by Quarter\")\n",
    "df.groupby(by = ['Year', 'Quarter'])['Sales Amount'].sum().plot()"
   ]
  },
  {
   "cell_type": "code",
   "execution_count": 20,
   "id": "a4d89c8b",
   "metadata": {},
   "outputs": [
    {
     "data": {
      "text/plain": [
       "Text(0.5, 1.0, 'Product by Sales')"
      ]
     },
     "execution_count": 20,
     "metadata": {},
     "output_type": "execute_result"
    },
    {
     "data": {
      "image/png": "[encoded data removed]",
      "text/plain": [
       "<Figure size 432x288 with 1 Axes>"
      ]
     },
     "metadata": {
      "needs_background": "light"
     },
     "output_type": "display_data"
    }
   ],
   "source": [
    "#Top 5 products with the highest Sales\n",
    "\n",
    "df.groupby(by = 'Item')['Sales Amount'].sum().round().sort_values(ascending = False)[:5].plot(kind = 'barh')\n",
    "plt.title('Product by Sales')"
   ]
  },
  {
   "cell_type": "code",
   "execution_count": 23,
   "id": "27917fab",
   "metadata": {},
   "outputs": [
    {
     "data": {
      "text/plain": [
       "Text(0.5, 1.0, 'Product by Profit')"
      ]
     },
     "execution_count": 23,
     "metadata": {},
     "output_type": "execute_result"
    },
    {
     "data": {
      "image/png": "[encoded data removed]",
      "text/plain": [
       "<Figure size 432x288 with 1 Axes>"
      ]
     },
     "metadata": {
      "needs_background": "light"
     },
     "output_type": "display_data"
    }
   ],
   "source": [
    "#Top 5 profit generating products\n",
    "\n",
    "df.groupby(by = 'Item')['Sales Margin Amount'].sum().round().sort_values(ascending = False)[:5].plot(kind = 'barh', color = 'green')\n",
    "plt.title('Product by Profit')"
   ]
  },
  {
   "cell_type": "code",
   "execution_count": null,
   "id": "436618f0",
   "metadata": {},
   "outputs": [],
   "source": []
  },
  {
   "cell_type": "code",
   "execution_count": null,
   "id": "13b95a80",
   "metadata": {},
   "outputs": [],
   "source": []
  },
  {
   "cell_type": "code",
   "execution_count": null,
   "id": "b98cad8f",
   "metadata": {},
   "outputs": [],
   "source": []
  },
  {
   "cell_type": "code",
   "execution_count": null,
   "id": "ae7988fc",
   "metadata": {},
   "outputs": [],
   "source": []
  },
  {
   "cell_type": "code",
   "execution_count": null,
   "id": "81ca586e",
   "metadata": {},
   "outputs": [],
   "source": []
  }
 ],
 "metadata": {
  "kernelspec": {
   "display_name": "Python 3 (ipykernel)",
   "language": "python",
   "name": "python3"
  },
  "language_info": {
   "codemirror_mode": {
    "name": "ipython",
    "version": 3
   },
   "file_extension": ".py",
   "mimetype": "text/x-python",
   "name": "python",
   "nbconvert_exporter": "python",
   "pygments_lexer": "ipython3",
   "version": "3.9.12"
  }
 },
 "nbformat": 4,
 "nbformat_minor": 5
}
